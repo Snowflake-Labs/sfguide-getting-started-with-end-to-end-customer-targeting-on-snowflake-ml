{
 "metadata": {
  "kernelspec": {
   "display_name": "Streamlit Notebook",
   "name": "streamlit"
  },
  "lastEditStatus": {
   "notebookId": "rwww74ktufiiibrblv6a",
   "authorId": "6149508575120",
   "authorName": "RPEGU",
   "authorEmail": "ranjeeta.pegu@snowflake.com",
   "sessionId": "65be5410-cd4a-43bb-b7c1-8caec99346da",
   "lastEditTime": 1747410167209
  }
 },
 "nbformat_minor": 5,
 "nbformat": 4,
 "cells": [
  {
   "cell_type": "markdown",
   "id": "ff49530a-3fbf-4aa7-b857-30f3879dcc0a",
   "metadata": {
    "name": "cell4",
    "collapsed": false
   },
   "source": "## Notebook Index\n1. Feature Store 👈\n2. [Feature Reduction ](https://app.snowflake.com/sfpscogs/rpegu_aiml/#/notebooks/ML_MODELS.DS.%2202_Feature_Reduction%22)\n3. [Model Training](https://app.snowflake.com/sfpscogs/rpegu_aiml/#/notebooks/ML_MODELS.DS.%2203_Model_Training%22)\n4. [Model Inference & scheduling](https://app.snowflake.com/sfpscogs/rpegu_aiml/#/notebooks/ML_MODELS.DS.%2204_Batch_Inferencing%22)\n\n\n## Notebook Overview?\nIn this notebook, we set up the Snowflake Feature Store by:\n* Defining entities and feature views\n* Registering them in the feature store\n* Creating a feature dataset to be used for model training\n\nThe Snowflake Feature Store serves as a centralized repository for storing, managing, and serving machine learning features at scale. It supports consistent feature computation, promotes reuse across models, and simplifies data workflows for both training and inference."
  },
  {
   "cell_type": "code",
   "id": "3775908f-ca36-4846-8f38-5adca39217f2",
   "metadata": {
    "language": "python",
    "name": "lib"
   },
   "source": "# Import python packages\nimport json\n\n# SNOWFLAKE\nimport snowflake.snowpark.functions as F\nimport snowflake.snowpark.types as T\nfrom snowflake.snowpark.version import VERSION\n\n# Snowflake Feature Store\nfrom snowflake.ml.feature_store import (\n    FeatureStore,\n    FeatureView,\n    Entity,  CreationMode)\n\n\n# We can also use Snowpark for our analyses!\nfrom snowflake.snowpark.context import get_active_session\nsession = get_active_session()\n",
   "execution_count": null,
   "outputs": []
  },
  {
   "cell_type": "code",
   "id": "8d50cbf4-0c8d-4950-86cb-114990437ac9",
   "metadata": {
    "language": "python",
    "name": "df"
   },
   "source": "#database\ninput_database          = 'ML_MODELS'\nworking_database       = 'ML_MODELS'\n\n#schema\ninput_schema            = 'DS'\nworking_schema          = 'DS'\nfs_schema               = 'FEATURE_STORE'\n\nsession.use_role('FR_SCIENTIST')\n\n## base snowflake tables\ntbl1= '.'.join([input_database, input_schema, 'DEMO_TBL_1'])\ntbl2= '.'.join([input_database, input_schema, 'DEMO_TBL_2'])\ntbl3= '.'.join([input_database, input_schema, 'DEMO_TBL_3'])\ntbl4= '.'.join([input_database, input_schema, 'DEMO_TBL_4'])  \nuniverse_tbl = '.'.join([input_database, input_schema, 'DEMO_TARGETS_TBL'])\n                 \n## snowpark dataframe\ntbl1_sdf = session.table(tbl1)\ntbl2_sdf = session.table(tbl2)\ntbl3_sdf = session.table(tbl3)\ntbl4_sdf = session.table(tbl4)\n\nuniverse_sdf = session.table(universe_tbl)\n\n",
   "execution_count": null,
   "outputs": []
  },
  {
   "cell_type": "code",
   "id": "c695373e-ac74-4b62-a1f1-08206cbd5c81",
   "metadata": {
    "language": "python",
    "name": "FeatureStores"
   },
   "source": "warehouse = 'DS_W'\nsnowpark_opt_warehouse  = 'SNOWPARK_OPT_WH'\nsession.use_warehouse(warehouse )\n\n# Create/Reference Snowflake Feature Store for Training (Development) Environment\ntry: \n    fs = FeatureStore(\n        session=session,        \n        database=working_database, \n        name=fs_schema,\n        default_warehouse=warehouse\n    )\nexcept:\n    # need privs to create fs if not exists\n    fs = FeatureStore(\n        session=session,        \n        database=working_database, \n        name=fs_schema, \n        default_warehouse=warehouse,\n        creation_mode=CreationMode.CREATE_IF_NOT_EXIST\n    )\n## define the primary or join keys \njoin_keys = [\"MEMBER_ID\", \"REF_MMYY\"]",
   "execution_count": null,
   "outputs": []
  },
  {
   "cell_type": "code",
   "id": "bf1f0eda-981e-47d9-b447-394adf81d6a4",
   "metadata": {
    "language": "python",
    "name": "func2RegEntity"
   },
   "outputs": [],
   "source": "def register_feature(fs, entity_nm, fv_version, feature_df, join_keys):\n    \"\"\"\n    Registers an entity and a feature view in the feature store if they do not already exist.\n\n    Parameters:\n        fs (FeatureStore): Feature store client instance\n        entity_nm (str): Name of the entity\n        fv_version (str): Version of the feature view\n        feature_df (DataFrame):  DataFrame containing feature data\n        join_keys (list): List of join keys for the entity\n\n    Returns:\n        FeatureView: The registered or retrieved FeatureView instance\n    \"\"\"\n\n    fv_name = f\"FV_FEATURE_{entity_nm}\"\n\n    # Check if entity exists\n    entity_names_json = fs.list_entities().select(F.to_json(F.array_agg(\"NAME\", True))).collect()[0][0]\n    existing_entities = json.loads(entity_names_json)\n\n    if entity_nm not in existing_entities:\n        entity_instance = Entity(name=entity_nm, join_keys=join_keys, desc=f\"Primary Keys for {entity_nm}\")\n        fs.register_entity(entity_instance)\n    else:\n        entity_instance = fs.get_entity(entity_nm)\n\n    # Try to get the FeatureView; register it if it doesn't exist\n    try:\n        fv_feature_instance = fs.get_feature_view(fv_name, fv_version)\n    except:\n        fv_feature_instance = FeatureView(\n            name=fv_name,\n            entities=[entity_instance],\n            feature_df=feature_df\n        )\n        fs.register_feature_view(fv_feature_instance, version=fv_version, block=True)\n\n    return fv_feature_instance",
   "execution_count": null
  },
  {
   "cell_type": "code",
   "id": "cbae4d7b-5f20-421c-b5c3-d31826b154f6",
   "metadata": {
    "language": "python",
    "name": "FeatureViewCreation"
   },
   "outputs": [],
   "source": "# FeatureView creations\n#entity1\nentity_nm = \"ENT_1\"\nfv_name = f\"FV_FEATURE_{entity_nm}\"\nfv_version = \"V_1\"\nsfd = tbl1_sdf \noutput= register_feature(fs, entity_nm, fv_version, sfd, join_keys)\n\n#entity2\nentity_nm = \"ENT_2\"\nfv_name = f\"FV_FEATURE_{entity_nm}\"\nfv_version = \"V_1\"\nsfd = tbl2_sdf \noutput= register_feature(fs, entity_nm, fv_version, sfd, join_keys)\n#entity3\nentity_nm = \"ENT_3\"\nfv_name = f\"FV_FEATURE_{entity_nm}\"\nfv_version = \"V_1\"\nsfd = tbl3_sdf \noutput= register_feature(fs, entity_nm, fv_version, sfd, join_keys)\n#entity4\nentity_nm = \"ENT_4\"\nfv_name = f\"FV_FEATURE_{entity_nm}\"\nfv_version = \"V_1\"\nsfd = tbl4_sdf \noutput= register_feature(fs, entity_nm, fv_version, sfd, join_keys)\n\n\nfs.list_feature_views().show()",
   "execution_count": null
  },
  {
   "cell_type": "markdown",
   "id": "1eb68b26-c053-43d5-a208-087e9cf6077e",
   "metadata": {
    "name": "cell2",
    "collapsed": false
   },
   "source": "### DATASET CREATION "
  },
  {
   "cell_type": "code",
   "id": "09b3933a-6527-4303-998a-29b8f47264fe",
   "metadata": {
    "language": "python",
    "name": "cell1"
   },
   "outputs": [],
   "source": "#retrieve the entity views\n\nfv_feature_ent1_instance  = fs.get_feature_view(\"FV_FEATURE_ENT_1\", \"V_1\")\nfv_feature_ent2_instance  = fs.get_feature_view(\"FV_FEATURE_ENT_2\", \"V_1\")\nfv_feature_ent3_instance  = fs.get_feature_view(\"FV_FEATURE_ENT_3\", \"V_1\")\nfv_feature_ent4_instance  = fs.get_feature_view(\"FV_FEATURE_ENT_4\", \"V_1\")\n\n\nfv_list = [fv_feature_ent1_instance, \n           fv_feature_ent2_instance, \n           fv_feature_ent3_instance,\n           fv_feature_ent4_instance] \n\nds_cols = []\nslice_list = []\nfor fv in fv_list:\n    fv_cols = list(fv._feature_desc)\n    slice_cols = [col for col in fv_cols if col not in ds_cols]\n    #fv = fv.slice(slice_cols)\n    slice_list.append(fv.slice(slice_cols))\n    ds_cols += fv_cols\n\n ## create DS   \ndataset = fs.generate_dataset(\n    name=f\"{working_database}.{working_schema}.DEMO_DATASET\",\n    spine_df=universe_sdf,\n    features = slice_list,\n    version=\"V_1\",\n    output_type=\"table\",\n    spine_label_cols=[\"TARGET\"],\n    desc=\"training dataset for ml poc\"\n)    ",
   "execution_count": null
  },
  {
   "cell_type": "code",
   "id": "d92f457f-569e-46b2-a20e-0c6d0a2e59b4",
   "metadata": {
    "language": "python",
    "name": "cell3"
   },
   "outputs": [],
   "source": "dataset.show()",
   "execution_count": null
  }
 ]
}